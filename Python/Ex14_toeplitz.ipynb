{
  "cells": [
    {
      "cell_type": "code",
      "execution_count": 243,
      "metadata": {
        "trusted": true
      },
      "outputs": [],
      "source": [
        "#Sheet 4 Exercise 14 Power Method"
      ]
    },
    {
      "cell_type": "code",
      "execution_count": 244,
      "metadata": {
        "trusted": true
      },
      "outputs": [],
      "source": [
        "import numpy as np\n",
        "from scipy import linalg"
      ]
    },
    {
      "cell_type": "code",
      "execution_count": 245,
      "metadata": {
        "trusted": true
      },
      "outputs": [],
      "source": [
        "n = int(input('Input Matrix size n:'))\n",
        "h = np.array([4,-1,-2])\n",
        "if(n>=3):\n",
        "    r = np.concatenate((h,np.zeros(n-h.size)),axis=None)\n",
        "else:\n",
        "    if(n == 1):\n",
        "        r = np.array([4])\n",
        "    else:\n",
        "        r = np.array([4,-1])\n",
        "    "
      ]
    },
    {
      "cell_type": "code",
      "execution_count": 246,
      "metadata": {
        "trusted": true
      },
      "outputs": [
        {
          "name": "stdout",
          "output_type": "stream",
          "text": [
            "Toeplitz Matrix : \n",
            " [[ 4. -1. -2.  0.  0.  0.  0.  0.  0.]\n",
            " [-1.  4. -1. -2.  0.  0.  0.  0.  0.]\n",
            " [-2. -1.  4. -1. -2.  0.  0.  0.  0.]\n",
            " [ 0. -2. -1.  4. -1. -2.  0.  0.  0.]\n",
            " [ 0.  0. -2. -1.  4. -1. -2.  0.  0.]\n",
            " [ 0.  0.  0. -2. -1.  4. -1. -2.  0.]\n",
            " [ 0.  0.  0.  0. -2. -1.  4. -1. -2.]\n",
            " [ 0.  0.  0.  0.  0. -2. -1.  4. -1.]\n",
            " [ 0.  0.  0.  0.  0.  0. -2. -1.  4.]]\n"
          ]
        }
      ],
      "source": [
        "t = linalg.toeplitz(r,r)\n",
        "print('Toeplitz Matrix : \\n', t)"
      ]
    },
    {
      "cell_type": "code",
      "execution_count": 247,
      "metadata": {
        "trusted": true
      },
      "outputs": [],
      "source": [
        "def eigenVal(a):\n",
        "    n = len(a)\n",
        "    x0 = np.ones(n)\n",
        "    x = np.divide(np.matmul(a,x0),np.linalg.norm(x0))\n",
        "    while(np.linalg.norm(x-x0) > 10E-12):\n",
        "        x0 = np.copy(x)\n",
        "        x = np.divide(np.matmul(a,x0),np.linalg.norm(x0))\n",
        "    return np.linalg.norm(x)"
      ]
    },
    {
      "cell_type": "code",
      "execution_count": 248,
      "metadata": {
        "trusted": true
      },
      "outputs": [
        {
          "name": "stdout",
          "output_type": "stream",
          "text": [
            "Using definition :\n",
            "Largest absolute Eigen Value of Toeplitz Matrix A of size 9 = 7.515316029450962 \n",
            "Using numpy and scipy :\n",
            "Largest absolute Eigen Value of Toeplitz Matrix A of size 9 = 7.515316029450963 \n"
          ]
        }
      ],
      "source": [
        "print('Using definition :')\n",
        "print('Largest absolute Eigen Value of Toeplitz Matrix A of size %d = %s '%(n,eigenVal(t)))\n",
        "la, v = np.linalg.eig(t)\n",
        "print('Using numpy and scipy :')\n",
        "print('Largest absolute Eigen Value of Toeplitz Matrix A of size %d = %s '%(n,la.max()))"
      ]
    }
  ],
  "metadata": {
    "kernelspec": {
      "display_name": "Python (Pyodide)",
      "language": "python",
      "name": "python"
    },
    "language_info": {
      "codemirror_mode": {
        "name": "python",
        "version": 3
      },
      "file_extension": ".py",
      "mimetype": "text/x-python",
      "name": "python",
      "nbconvert_exporter": "python",
      "pygments_lexer": "ipython3",
      "version": "3.8"
    }
  },
  "nbformat": 4,
  "nbformat_minor": 4
}
